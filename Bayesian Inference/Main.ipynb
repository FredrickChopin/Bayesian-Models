{
 "cells": [
  {
   "attachments": {},
   "cell_type": "markdown",
   "metadata": {},
   "source": [
    "# Assignment 1\n",
    "Sequential Models in Data Science \n",
    "\n",
    "\n",
    "Bayesian Inference \n",
    "\n",
    "\n",
    "Submitted by Ariel Fuxman and Gilad Zusman \n",
    "\n",
    "\n",
    "Submited to Yirmeyahu Kaminski "
   ]
  },
  {
   "cell_type": "markdown",
   "metadata": {},
   "source": [
    "Import the necessary libraries"
   ]
  },
  {
   "cell_type": "code",
   "execution_count": 94,
   "metadata": {},
   "outputs": [],
   "source": [
    "import numpy as np\n",
    "from scipy.special import factorial\n",
    "from matplotlib import pyplot as plt\n",
    "np.set_printoptions(suppress = True)"
   ]
  },
  {
   "cell_type": "markdown",
   "metadata": {},
   "source": [
    "# 1 Poisson Distribution"
   ]
  },
  {
   "cell_type": "code",
   "execution_count": 95,
   "metadata": {},
   "outputs": [],
   "source": [
    "n = 100\n",
    "lam = 5\n",
    "samples = np.random.poisson(lam, n)"
   ]
  },
  {
   "cell_type": "markdown",
   "metadata": {},
   "source": [
    "# 2 Conjugate Prior"
   ]
  },
  {
   "attachments": {},
   "cell_type": "markdown",
   "metadata": {},
   "source": [
    "**1)** The Poisson distribution has density function:\n",
    "$$\n",
    "f(x|\\lambda) = \\frac{e^{-\\lambda}\\lambda^x}{x!}, \\quad x\\in {0,1,\\ldots}, \\quad \\lambda \\in (0, \\infty)\n",
    "$$\n",
    "The support of $f(x|\\lambda)$ does not depend on the parameter $\\lambda$. In addition, it could be re-written as:\n",
    "$$\n",
    "f(x|\\lambda) = \\frac{1}{x!}\\exp\\left(x\\ln(\\lambda) - \\lambda\\right)\n",
    "$$\n",
    "Therefore, the Poisson distribוtion belongs to the exponential family. \n",
    "\n",
    "\n",
    "**2)**\n",
    "The exponential family provides us with a conjugate prior:\n",
    "$$\n",
    "\\pi(\\lambda|\\alpha,\\beta) \\propto \\exp\\left((\\alpha - 1)\\ln\\lambda-\\beta\\lambda\\right) = e^{-\\beta\\lambda}\\lambda^{\\alpha-1}\n",
    "$$\n",
    "**3)**\n",
    "Let's normalize:\n",
    "$$\n",
    "\\int_0^\\infty e^{-\\beta\\lambda}\\lambda^{\\alpha-1}d\\lambda = \\frac{1}{\\beta}\\int_0^\\infty e^{-\\beta\\lambda}\\lambda^{\\alpha-1}\\beta d\\lambda\n",
    "$$\n",
    "Substitute $t = \\beta\\lambda$ and use the Gamma function:\n",
    "$$\n",
    "= \\frac{1}{\\beta}\\int_0^\\infty e^{-t}\\left(\\frac{t}{\\beta}\\right)^{\\alpha-1}dt= \\frac{1}{\\beta^\\alpha}\\int_0 ^\\infty t^{\\alpha - 1}e^{-t}dt=\\frac{\\Gamma(\\alpha)}{\\beta^\\alpha}\n",
    "$$\n",
    "So\n",
    "$$\n",
    "\\pi(\\lambda|\\alpha,\\beta) = \\frac{\\beta^\\alpha e^{-\\beta\\lambda}\\lambda^{\\alpha-1}}{\\Gamma(\\alpha)} = \\Gamma(\\alpha,\\beta)\n",
    "$$\n",
    "**4**)\n",
    "The likelihood is:\n",
    "$$\n",
    "f(\\textbf{X}|\\lambda) = \\prod_{j=1}^n f(x_j|\\lambda) = \\prod_{j=1}^n \\frac{1}{x_j!}e^{x_j\\ln\\lambda-\\lambda} = \\prod_{j=1}^n \\left(\\frac{1}{x_j!}\\right) e^{\\ln(\\lambda)\\sum_{j=1}^n x_j - n\\lambda}\n",
    "$$\n",
    "So the posterior is:\n",
    "$$\n",
    "f(\\lambda | \\textbf{X}, \\alpha, \\beta) = f(\\textbf{X} | \\lambda) \\pi(\\lambda | \\alpha, \\beta) \\propto \\exp\\left(\\ln(\\lambda)\\left(\\sum_{j=1}^n x_j + \\alpha - 1\\right) - (n + \\beta)\\lambda\\right)\n",
    "$$\n",
    "Indeed, the posterior also belongs to the Gamma distribution.\n",
    "$$\n",
    "\\lambda | \\textbf{X}, \\alpha, \\beta \\sim \\Gamma\\left(\\sum_{j=1}^n x_j + \\alpha, n + \\beta\\right)\n",
    "$$"
   ]
  },
  {
   "cell_type": "markdown",
   "metadata": {},
   "source": [
    "# 3 Marginalizing the Hyper Parameters"
   ]
  },
  {
   "attachments": {},
   "cell_type": "markdown",
   "metadata": {},
   "source": [
    "**1)**\n",
    "$$\n",
    "\\pi(\\lambda | \\alpha, \\beta) = \\frac{\\beta^\\alpha\\lambda^{\\alpha-1}e^{-\\beta\\lambda}}{\\Gamma(\\alpha)}, \\quad \\alpha,\\beta > 0\n",
    "$$\n",
    "$$\n",
    "\\ln \\pi(\\lambda | \\alpha, \\beta) = \\alpha \\ln \\beta + (\\alpha - 1) \\ln\\lambda - \\beta\\lambda-\\ln\\Gamma(\\alpha)\n",
    "$$\n",
    "$$\n",
    "\\frac{\\partial \\ln \\pi(\\lambda | \\alpha, \\beta)}{\\partial\\alpha} = \\ln \\beta + \\ln\\lambda -\\psi(\\alpha)\n",
    "$$\n",
    "$$\n",
    "\\frac{\\partial^2 \\ln \\pi(\\lambda | \\alpha, \\beta)}{\\partial\\alpha^2} = -\\psi '(\\alpha)\n",
    "$$\n",
    "$\\Gamma(\\alpha,\\beta) \\in C^2$, so by Schwarz's theorem,\n",
    "$$\n",
    "\\frac{\\partial^2 \\ln \\pi(\\lambda | \\alpha, \\beta)}{\\partial\\alpha\\,\\partial\\beta} = \\frac{\\partial^2 \\ln \\pi(\\lambda | \\alpha, \\beta)}{\\partial\\beta\\,\\partial\\alpha} = \\frac{1}{\\beta}\n",
    "$$\n",
    "$$\n",
    "\\frac{\\partial \\ln \\pi(\\lambda | \\alpha, \\beta)}{\\partial\\beta} = \\frac{\\alpha}{\\beta} - \\lambda\n",
    "$$\n",
    "$$\n",
    "\\frac{\\partial^2 \\ln \\pi(\\lambda | \\alpha, \\beta)}{\\partial\\beta^2} = \\frac{\\alpha}{\\beta^2}\n",
    "$$\n",
    "All the second order derivatives are constant with respect to $\\lambda$, so taking the expected value leaves them unchanged. Therefore, we arrive at Ficher's information matrix:\n",
    "$$\n",
    "I(\\alpha, \\beta) = \n",
    "\\begin{pmatrix}\n",
    "\\psi'(\\alpha) & -\\frac{1}{\\beta}\\\\\n",
    "-\\frac{1}{\\beta} & \\frac{\\alpha}{\\beta^2}\n",
    "\\end{pmatrix}\n",
    "$$\n",
    "**2)**\n",
    "Since $\\beta > 0$, Jeffry's prior is:\n",
    "$$\n",
    "\\pi_{\\alpha,\\beta}(\\alpha, \\beta) \\propto \\sqrt{\\det I(\\alpha, \\beta)} = \\sqrt{\\frac{\\psi'(\\alpha)\\alpha - 1}{\\beta^2}} = \\frac{\\sqrt{\\psi'(\\alpha)\\alpha - 1}}{\\beta}\n",
    "$$\n",
    "It is evidently an improper prior, since the integral\n",
    "$$\n",
    "\\int_0^\\infty \\int_0^\\infty \\frac{\\sqrt{\\psi'(\\alpha)\\alpha - 1}}{\\beta} d\\alpha\\,d\\beta\n",
    "$$\n",
    "diverges. \n",
    "\n",
    "\n",
    "**3)** However, we can still use this prior.\n",
    "$$\n",
    "\\begin{align*}\n",
    "f(\\lambda|\\textbf{X}) &= \\int_0^\\infty \\int_0^\\infty f(\\lambda | \\textbf{X}, \\alpha, \\beta)\\ \\pi_{\\alpha,\\beta}(\\alpha, \\beta)d\\alpha\\,d\\beta \\propto \\\\ \n",
    "&\\propto \\int_0^\\infty \\int_0^\\infty \\frac{(n+\\beta)^{\\sum x_j + \\alpha}e^{-(n+\\beta)\\lambda}\\lambda^{\\sum x_j + \\alpha - 1}}{\\Gamma(\\sum x_j + \\alpha)} \\frac{\\sqrt{\\psi'(\\alpha)\\alpha - 1}}{\\beta} d\\alpha\\,d\\beta\n",
    "\\end{align*}\n",
    "$$"
   ]
  },
  {
   "cell_type": "markdown",
   "metadata": {},
   "source": [
    "# Maximum Likelihood Type II"
   ]
  },
  {
   "attachments": {},
   "cell_type": "markdown",
   "metadata": {},
   "source": [
    "**4.1)**\n",
    "Performing an integral calculation similar to **2.3)**, \n",
    "\\begin{align*}\n",
    "f(\\mathbf{X}|\\alpha,\\beta) &= \\int_0^\\infty f(\\mathbf{X}|\\lambda, \\alpha,\\beta)\\pi(\\lambda|\\alpha,\\beta)d\\lambda = \\\\\n",
    "&= \\int_0^\\infty \\frac{1}{\\prod x_j!} e^{\\ln(\\lambda)\\sum x_j - n\\lambda} \\frac{\\beta^\\alpha e^{-\\beta\\lambda}\\lambda^{\\alpha-1}}{\\Gamma(\\alpha)}d\\lambda = \\\\\n",
    "&= \\frac{1}{\\prod x_j!} \\frac{\\beta^\\alpha}{\\Gamma(\\alpha)} \\int_0^\\infty \\lambda^{\\sum x_j + \\alpha - 1} e^{-(n + \\beta)\\lambda} d\\lambda = \\\\\n",
    "&= \\frac{1}{\\prod x_j!}\\frac{\\beta^\\alpha}{\\Gamma(\\alpha)} \\frac{\\Gamma(\\sum x_j + \\alpha)}{(n+\\beta)^{\\sum x_j + \\alpha}}\n",
    "\\end{align*}\n",
    "**4.2)** \n",
    "The term $\\frac{1}{\\prod x_j!}$ is constant with respect to $(\\alpha, \\beta)$, so it is equivalent to maximizing\n",
    "$$\n",
    "\\frac{\\beta^\\alpha}{\\Gamma(\\alpha)} \\frac{\\Gamma(\\sum x_j + \\alpha)}{(n+\\beta)^{\\sum x_j + \\alpha}}\n",
    "$$\n",
    "Denote $s = \\sum x_j$. A function is maximized whenever its logarithm is maximized, so we can maximize:\n",
    "$$\n",
    "\\varphi(\\alpha, \\beta) := \\alpha\\ln(\\beta) + \\ln\\left(\\Gamma(s + \\alpha)\\right) - \\ln\\left(\\Gamma(\\alpha)\\right) - (s + \\alpha)\\ln(n+\\beta)\n",
    "$$\n",
    "Assume $s > 0$. Fixing $\\alpha$, the optimal $\\beta$ can be found by differentiation:\n",
    "$$\n",
    "\\frac{\\partial \\varphi}{\\partial \\beta} = \\frac{\\alpha}{\\beta} - \\frac{s+\\alpha}{n+\\beta} = 0 \\iff \\beta = \\alpha\\frac{n}{s}\n",
    "$$\n",
    "Indeed, it is the maximal point, since\n",
    "$$\n",
    "\\frac{\\partial^2 \\varphi}{\\partial\\beta^2} = \\frac{-\\alpha}{\\beta^2} + \\frac{s + \\alpha}{(n + \\beta)^2}\n",
    "$$\n",
    "$$\n",
    "\\Longrightarrow \\frac{\\partial^2 \\varphi(\\alpha, \\beta^*)}{\\partial\\beta^2} = \\frac{1}{n^2}\\left(-\\frac{s^2}{\\alpha}+\\frac{s^2+\\alpha s}{s+\\alpha}\\right) < 0\n",
    "$$\n",
    "Regarding $\\alpha^*$, note that since we assumed $s > 0$, then $s \\in \\mathbb{N}$, and so\n",
    "$$\n",
    "\\ln\\left(\\Gamma(s + \\alpha)\\right) - \\ln\\left(\\Gamma(\\alpha)\\right) = \\ln\\left(\\frac{\\Gamma(s+\\alpha)}{\\Gamma(\\alpha)}\\right) = \\ln\\left(\\frac{\\Gamma(\\alpha)(s+\\alpha - 1)\\cdot\\ldots\\cdot(\\alpha)}{\\Gamma(\\alpha)}\\right) = \\sum_{j=0}^{s-1}\\ln(\\alpha + j)\n",
    "$$\n",
    "$$\n",
    "\\Longrightarrow \\frac{\\partial \\varphi}{\\partial \\alpha} = \\ln(\\beta) - \\alpha\\ln(n+\\beta) + \\sum_{j=0}^{s-1}\\frac{1}{(\\alpha + j)}\n",
    "$$\n",
    "$$\n",
    "\\Longrightarrow \\frac{\\partial \\varphi}{\\partial \\alpha}(\\alpha,\\beta^*) = \\ln\\left(\\frac{\\alpha}{\\alpha + s}\\right) + \\sum_{j=0}^{s-1}\\frac{1}{(\\alpha + j)}\n",
    "$$\n",
    "Now, we prove that $\\frac{\\partial \\varphi}{\\partial \\alpha}(\\alpha,\\beta^*) > 0$ for all $\\alpha > 0$. Considering the inequality $e^x > 1 + x$ for all $x > 0$, \n",
    "\\begin{align*}\n",
    "\\exp\\left(\\frac{\\partial \\varphi}{\\partial \\alpha}(\\alpha,\\beta^*)\\right) &= \\frac{\\alpha}{\\alpha + s}e^{1/\\alpha}\\cdot\\ldots\\cdot e^{1/(\\alpha+s - 1)} > \\\\\n",
    "&> \\frac{\\alpha}{\\alpha + s}\\left(1+\\frac{1}{\\alpha}\\right)\\cdot\\ldots\\cdot\\left(1+\\frac{1}{\\alpha+s-1}\\right) = \\frac{\\alpha}{\\alpha + s}\\frac{\\alpha+1}{\\alpha}\\cdot\\ldots\\cdot\\frac{\\alpha+s}{\\alpha+s-1} = 1\n",
    "\\end{align*}\n",
    "since the last product is telescopic. This means that the expression is strictly monotone as a function of $\\alpha$, so actually $\\alpha^* = +\\infty$"
   ]
  },
  {
   "attachments": {},
   "cell_type": "markdown",
   "metadata": {},
   "source": [
    "# Predictive Posterior Distribution"
   ]
  },
  {
   "attachments": {},
   "cell_type": "markdown",
   "metadata": {},
   "source": [
    "**5)**\n",
    "Instead of writing $\\alpha^*, \\beta^*$, we will resort to writing $\\alpha$ and $\\beta$, but we will remember that they are determined values. We are again be left with an integral we have seen in **2.3)**:\n",
    "\\begin{align*}\n",
    "f(x|\\textbf{X}) &= \\int_0^\\infty f(x|\\lambda)f(\\lambda|\\textbf{X},\\alpha,\\beta)d\\lambda = \\\\\n",
    "       &= \\int_0^\\infty \\frac{e^{-\\lambda}\\lambda^x}{x!}\\frac{(n+\\beta)^{s+\\alpha}e^{-(n+\\beta)\\lambda}\\lambda^{s+\\alpha-1}}{\\Gamma(s + \\alpha)} d\\lambda = \\\\\n",
    "       &= \\frac{(n+\\beta)^{s+\\alpha}}{\\Gamma(x+1)\\Gamma(s + \\alpha)}\\int_0^\\infty \\lambda^{s+\\alpha+x-1}e^{-(n+\\beta+1)}d\\lambda = \\\\\n",
    "       &= \\frac{(n+\\beta)^{s+\\alpha}\\Gamma(s+\\alpha+x)}{\\Gamma(x+1)\\Gamma(s+\\alpha)(n+\\beta+1)^{s+\\alpha+x}}\n",
    "\\end{align*}\n",
    "If $\\alpha \\in \\mathbb{N}$, then\n",
    "$$\n",
    "f(x|\\textbf{X}) = \\frac{(n+\\beta)^{s+\\alpha}}{(n+\\beta+1)^{s+\\alpha+x}}\\frac{(s+\\alpha+x-1)!}{(s+\\alpha-1)!\\;x!}\n",
    "$$\n",
    "For an advantageous numerical calculation, we take the log:\n",
    "$$\n",
    "\\ln f(x|\\textbf{X}) = (s+\\alpha)\\ln(n+\\beta) - (s+\\alpha+x)\\ln(n+\\beta+1) -\\sum_{j=1}^{x}\\ln(j)+\\sum_{j=0}^{x - 1}\\ln(s+\\alpha+j)\n",
    "$$"
   ]
  },
  {
   "attachments": {},
   "cell_type": "markdown",
   "metadata": {},
   "source": [
    "# Monte-Carlo Computations"
   ]
  },
  {
   "cell_type": "code",
   "execution_count": 96,
   "metadata": {},
   "outputs": [
    {
     "data": {
      "image/png": "[encoded data removed]",
      "text/plain": [
       "<Figure size 640x480 with 1 Axes>"
      ]
     },
     "metadata": {},
     "output_type": "display_data"
    }
   ],
   "source": [
    "def PredictivePosterior(x, s, n, alpha, beta):\n",
    "    #Numerically stable implementation:\n",
    "    x = int(x)\n",
    "    log_result = (s + alpha) * np.log(n + beta) - (s + alpha + x) * np.log(n + beta + 1) - np.sum([np.log(j + 1) for j in range(x)]) + np.sum([np.log(s + alpha + j) for j in range(x)])\n",
    "    return np.exp(log_result)\n",
    "\n",
    "s = np.sum(samples)\n",
    "alpha = 1000\n",
    "beta = n / s * alpha\n",
    "f = np.vectorize(lambda x: PredictivePosterior(x, s, n, alpha, beta))\n",
    "x = np.arange(30) #The posterior predictive distribution decays quite fast\n",
    "y = f(x)\n",
    "plt.title(\"Predictive Posterior Distribution\")\n",
    "plt.xlabel(\"x\")\n",
    "plt.ylabel(\"P(x|X)\")\n",
    "plt.bar(x, y)\n",
    "plt.show()"
   ]
  },
  {
   "attachments": {},
   "cell_type": "markdown",
   "metadata": {},
   "source": [
    "Now, we again draw $n = 100$ samples, but now from the predictive posterior distribution. Numpy probably performs the scheme you taught us, it calculates the CDF and samples uniformly a number from the interval $[0,1]$"
   ]
  },
  {
   "cell_type": "code",
   "execution_count": 97,
   "metadata": {},
   "outputs": [
    {
     "data": {
      "image/png": "[encoded data removed]",
      "text/plain": [
       "<Figure size 640x480 with 1 Axes>"
      ]
     },
     "metadata": {},
     "output_type": "display_data"
    }
   ],
   "source": [
    "plt.title(\"Samples From Predictive Posterior Distribution\")\n",
    "post_samples = np.random.choice(len(x), n, p = y) \n",
    "plt.xlabel(\"Sample Index\")\n",
    "plt.ylabel(\"Sample Value\")\n",
    "plt.bar(np.arange(n), post_samples)\n",
    "plt.show()"
   ]
  },
  {
   "attachments": {},
   "cell_type": "markdown",
   "metadata": {},
   "source": [
    "Now, calculate the average and the variance of the new samples. Remember that:\n",
    "$$\n",
    "X \\sim P(\\lambda) \\Longrightarrow E[X] = \\text{Var}[X] = \\lambda\n",
    "$$\n",
    "It is interesting to compare it with the average and variance of the initial samples."
   ]
  },
  {
   "cell_type": "code",
   "execution_count": 98,
   "metadata": {},
   "outputs": [
    {
     "name": "stdout",
     "output_type": "stream",
     "text": [
      "Initial samples average: 4.55\n",
      "Post samples average: 4.75\n",
      "Initial samples variance: 4.0875\n",
      "Post samples variance: 4.4875\n"
     ]
    }
   ],
   "source": [
    "print(\"Initial samples average:\", np.average(samples))\n",
    "print(\"Post samples average:\", np.average(post_samples))\n",
    "print(\"Initial samples variance:\", np.var(samples))\n",
    "print(\"Post samples variance:\", np.var(post_samples))"
   ]
  }
 ],
 "metadata": {
  "kernelspec": {
   "display_name": "Python 3 (ipykernel)",
   "language": "python",
   "name": "python3"
  },
  "language_info": {
   "codemirror_mode": {
    "name": "ipython",
    "version": 3
   },
   "file_extension": ".py",
   "mimetype": "text/x-python",
   "name": "python",
   "nbconvert_exporter": "python",
   "pygments_lexer": "ipython3",
   "version": "3.10.0"
  }
 },
 "nbformat": 4,
 "nbformat_minor": 2
}
